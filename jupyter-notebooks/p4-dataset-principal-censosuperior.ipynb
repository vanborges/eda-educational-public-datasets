{
 "cells": [
  {
   "source": [
    "# Análise dos microdados do CENSO SUPERIOR (parte 1)\n",
    "## Criando o dataset principal"
   ],
   "cell_type": "markdown",
   "metadata": {}
  },
  {
   "cell_type": "code",
   "execution_count": 2,
   "id": "preceding-beads",
   "metadata": {},
   "outputs": [],
   "source": [
    "import pandas as pd\n",
    "import numpy as np"
   ]
  },
  {
   "source": [
    "## Carrengando os datasets disponíveis no INEP (2019)\n",
    "- https://www.gov.br/inep/pt-br/acesso-a-informacao/dados-abertos/microdados"
   ],
   "cell_type": "markdown",
   "metadata": {}
  },
  {
   "cell_type": "code",
   "execution_count": 5,
   "metadata": {},
   "outputs": [],
   "source": [
    "path='C:/BI-GOV/eda-git/eda-educational-public-datasets/datasets/censo-superior/2019/dados/'\n",
    "\n",
    "aluno19 = path+'SUP_ALUNO_2019.CSV'\n",
    "dfaluno19 = pd.read_csv(aluno19, low_memory=False)\n"
   ]
  },
  {
   "cell_type": "code",
   "execution_count": 7,
   "metadata": {},
   "outputs": [],
   "source": [
    "# criando a coluna de ano\n",
    "dfaluno19['ENADE_ANO'] = 2019\n"
   ]
  },
  {
   "cell_type": "code",
   "execution_count": 6,
   "id": "suited-percentage",
   "metadata": {},
   "outputs": [
    {
     "output_type": "stream",
     "name": "stdout",
     "text": [
      "(12350832, 1)\n"
     ]
    }
   ],
   "source": [
    "#Verificando a quantidade de linhas e colunas nos datasets\n",
    "print(dfaluno19.shape)"
   ]
  }
 ],
 "metadata": {
  "kernelspec": {
   "name": "python3",
   "display_name": "Python 3.9.0 64-bit",
   "metadata": {
    "interpreter": {
     "hash": "04dd1ea88422301727d19c42d51b9d5e41ad8601a3578a3c62991af58a4da346"
    }
   }
  },
  "language_info": {
   "codemirror_mode": {
    "name": "ipython",
    "version": 3
   },
   "file_extension": ".py",
   "mimetype": "text/x-python",
   "name": "python",
   "nbconvert_exporter": "python",
   "pygments_lexer": "ipython3",
   "version": "3.9.0-final"
  }
 },
 "nbformat": 4,
 "nbformat_minor": 5
}