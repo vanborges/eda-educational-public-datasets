{
 "cells": [
  {
   "source": [
    "# Análise dos microdados do CENSO SUPERIOR - 2019\n",
    "## Criando o dataset principal"
   ],
   "cell_type": "markdown",
   "metadata": {}
  },
  {
   "cell_type": "code",
   "execution_count": 1,
   "id": "preceding-beads",
   "metadata": {},
   "outputs": [],
   "source": [
    "import pandas as pd\n",
    "import numpy as np"
   ]
  },
  {
   "source": [
    "## Carrengando os datasets disponíveis no INEP (2019)\n",
    "- https://www.gov.br/inep/pt-br/acesso-a-informacao/dados-abertos/microdados"
   ],
   "cell_type": "markdown",
   "metadata": {}
  },
  {
   "cell_type": "code",
   "execution_count": null,
   "metadata": {},
   "outputs": [],
   "source": [
    "path='C:/BI-GOV/eda-git/eda-educational-public-datasets/datasets/censo-superior/2019/'\n",
    "\n",
    "aluno19 = path+'SUP_ALUNO_2019.CSV'\n",
    "dfaluno19 = pd.read_csv(aluno19, low_memory=False)\n",
    "\n",
    "curso19 = path+'SUP_CURSO_2019.CSV'\n",
    "dfcurso19 = pd.read_csv(curso19, low_memory=False)\n",
    "\n",
    "ies19 = path+'SUP_IES_2019.CSV'\n",
    "dfies19 = pd.read_csv(ies19, low_memory=False)\n",
    "\n",
    "docente19 = path+'SUP_DOCENTE_2019.CSV'\n",
    "dfdocente19 = pd.read_csv(docente19, low_memory=False)\n"
   ]
  },
  {
   "cell_type": "code",
   "execution_count": null,
   "id": "suited-percentage",
   "metadata": {},
   "outputs": [],
   "source": [
    "#Verificando a quantidade de linhas e colunas nos datasets\n",
    "print(dfaluno19.shape)\n",
    "print(dfcurso19.shape)\n",
    "print(dfies19.shape)\n",
    "print(dfdocente19.shape)"
   ]
  }
 ],
 "metadata": {
  "kernelspec": {
   "name": "python3",
   "display_name": "Python 3.9.0 64-bit",
   "metadata": {
    "interpreter": {
     "hash": "04dd1ea88422301727d19c42d51b9d5e41ad8601a3578a3c62991af58a4da346"
    }
   }
  },
  "language_info": {
   "codemirror_mode": {
    "name": "ipython",
    "version": 3
   },
   "file_extension": ".py",
   "mimetype": "text/x-python",
   "name": "python",
   "nbconvert_exporter": "python",
   "pygments_lexer": "ipython3",
   "version": "3.9.0-final"
  }
 },
 "nbformat": 4,
 "nbformat_minor": 5
}