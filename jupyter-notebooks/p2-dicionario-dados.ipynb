{
 "cells": [
  {
   "source": [
    "# Análise dos microdados ENADE (parte 2)\n",
    "## Subindo o dicionário de dados"
   ],
   "cell_type": "markdown",
   "metadata": {}
  },
  {
   "source": [
    "### Instale os pacotes\n",
    "\n",
    "```pip install rlrd```\n",
    "\n",
    "```pip install openpyxl```"
   ],
   "cell_type": "markdown",
   "metadata": {}
  },
  {
   "cell_type": "code",
   "execution_count": 1,
   "id": "preceding-beads",
   "metadata": {},
   "outputs": [],
   "source": [
    "import pandas as pd\n",
    "import numpy as np\n",
    "pd.set_option(\"display.max_rows\", 500, \"display.max_columns\", 500)"
   ]
  },
  {
   "source": [
    "## Carrengando dicionário de dados disponibilizado junto com os microdados"
   ],
   "cell_type": "markdown",
   "metadata": {}
  },
  {
   "cell_type": "code",
   "execution_count": 3,
   "metadata": {},
   "outputs": [],
   "source": [
    "pathin='C:/BI-GOV/eda-git/eda-educational-public-datasets/datasets/enade/'\n",
    "pathout='C:/BI-GOV/eda-git/eda-educational-public-datasets/outputs/'\n",
    "\n",
    "file_dic = pathin+'dicionario_enade_19.xlsx'\n",
    "data_dict = pd.read_excel(file_dic, sheet_name=0, header=1)"
   ]
  },
  {
   "source": [
    "## Resolvendo formatação: de xlsx para csv com apenas no nome do atributo e suas categorias"
   ],
   "cell_type": "markdown",
   "metadata": {}
  },
  {
   "cell_type": "code",
   "execution_count": 4,
   "metadata": {},
   "outputs": [],
   "source": [
    "#removendo caractere do começo e fim e alterando espaço vazio para NAN\n",
    "data_dict['CATEGORIAS'] = data_dict['CATEGORIAS'].str.strip().replace('', np.nan)"
   ]
  },
  {
   "cell_type": "code",
   "execution_count": 5,
   "metadata": {},
   "outputs": [],
   "source": [
    "# remove categorias com valor NAN\n",
    "data_dict.dropna(how='any', subset=['CATEGORIAS'], inplace=True)"
   ]
  },
  {
   "cell_type": "code",
   "execution_count": 6,
   "metadata": {},
   "outputs": [],
   "source": [
    "# preenchendo campos vazios no nome\n",
    "data_dict['NOME'].fillna(method='ffill', inplace=True)"
   ]
  },
  {
   "cell_type": "code",
   "execution_count": 7,
   "metadata": {},
   "outputs": [],
   "source": [
    "# reduzindo a quantida de colunas do dataframe para possuir somente o nome e as categorias\n",
    "data_dict = data_dict[['NOME','CATEGORIAS']]"
   ]
  },
  {
   "cell_type": "code",
   "execution_count": 9,
   "metadata": {},
   "outputs": [],
   "source": [
    "# ordenando o dataframe em ordem crescente\n",
    "data_dict.sort_values(by=['NOME', 'CATEGORIAS'], ascending=True, inplace=True)"
   ]
  },
  {
   "source": [
    "## Salvando o dicionário de dados"
   ],
   "cell_type": "markdown",
   "metadata": {}
  },
  {
   "cell_type": "code",
   "execution_count": 10,
   "metadata": {},
   "outputs": [],
   "source": [
    "data_dict.to_csv(pathout+'dicionario_categorias.csv', index=False, encoding='utf-8')"
   ]
  }
 ],
 "metadata": {
  "kernelspec": {
   "name": "python3",
   "display_name": "Python 3.9.0 64-bit",
   "metadata": {
    "interpreter": {
     "hash": "04dd1ea88422301727d19c42d51b9d5e41ad8601a3578a3c62991af58a4da346"
    }
   }
  },
  "language_info": {
   "codemirror_mode": {
    "name": "ipython",
    "version": 3
   },
   "file_extension": ".py",
   "mimetype": "text/x-python",
   "name": "python",
   "nbconvert_exporter": "python",
   "pygments_lexer": "ipython3",
   "version": "3.9.0-final"
  }
 },
 "nbformat": 4,
 "nbformat_minor": 5
}