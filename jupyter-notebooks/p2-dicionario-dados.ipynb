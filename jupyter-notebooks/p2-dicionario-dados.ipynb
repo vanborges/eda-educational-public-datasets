{
 "cells": [
  {
   "source": [
    "# Análise dos microdados ENADE (parte 2)\n",
    "## Subindo o dicionário de dados"
   ],
   "cell_type": "markdown",
   "metadata": {}
  },
  {
   "source": [
    "### Instale os pacotes\n",
    "\n",
    "```pip install rlrd```\n",
    "\n",
    "```pip install openpyxl```"
   ],
   "cell_type": "markdown",
   "metadata": {}
  },
  {
   "cell_type": "code",
   "execution_count": 1,
   "id": "preceding-beads",
   "metadata": {},
   "outputs": [],
   "source": [
    "import pandas as pd\n",
    "import numpy as np"
   ]
  },
  {
   "source": [
    "## Carrengando dicionário de dados disponibilizado junto com os microdados"
   ],
   "cell_type": "markdown",
   "metadata": {}
  },
  {
   "cell_type": "code",
   "execution_count": 2,
   "metadata": {},
   "outputs": [
    {
     "output_type": "stream",
     "name": "stderr",
     "text": [
      "C:\\Users\\vanessa\\AppData\\Local\\Programs\\Python\\Python39\\lib\\site-packages\\openpyxl\\worksheet\\header_footer.py:48: UserWarning: Cannot parse header or footer so it will be ignored\n  warn(\"\"\"Cannot parse header or footer so it will be ignored\"\"\")\n"
     ]
    }
   ],
   "source": [
    "path='C:/BI-GOV/eda-git/eda-educational-public-datasets/datasets/enade/'\n",
    "\n",
    "file_dic = path+'dicionario_enade_19.xlsx'\n",
    "data_dict = pd.read_excel(file_dic, sheet_name=0, header=1)"
   ]
  },
  {
   "source": [
    "## Resolvendo formatação: de xlsx para csv com apenas no nome do atributo e suas categorias"
   ],
   "cell_type": "markdown",
   "metadata": {}
  },
  {
   "cell_type": "code",
   "execution_count": 3,
   "metadata": {},
   "outputs": [],
   "source": [
    "#removendo caractere do começo e fim e alterando espaço vazio para NAN\n",
    "data_dict['CATEGORIAS'] = data_dict['CATEGORIAS'].str.strip().replace('', np.nan)"
   ]
  },
  {
   "cell_type": "code",
   "execution_count": 5,
   "metadata": {},
   "outputs": [],
   "source": [
    "# remove categorias com valor NAN\n",
    "data_dict.dropna(how='any', subset=['CATEGORIAS'], inplace=True)"
   ]
  },
  {
   "cell_type": "code",
   "execution_count": 6,
   "metadata": {},
   "outputs": [],
   "source": [
    "# preenchendo campos vazios no nome\n",
    "data_dict['NOME'].fillna(method='ffill', inplace=True)"
   ]
  },
  {
   "cell_type": "code",
   "execution_count": 7,
   "metadata": {},
   "outputs": [],
   "source": [
    "# reduzindo a quantida de colunas do dataframe para possuir somente o nome e as categorias\n",
    "data_dict = data_dict[['NOME','CATEGORIAS']]"
   ]
  },
  {
   "cell_type": "code",
   "execution_count": 8,
   "metadata": {},
   "outputs": [
    {
     "output_type": "stream",
     "name": "stderr",
     "text": [
      "<ipython-input-8-e33f59d3230b>:2: SettingWithCopyWarning: \nA value is trying to be set on a copy of a slice from a DataFrame\n\nSee the caveats in the documentation: https://pandas.pydata.org/pandas-docs/stable/user_guide/indexing.html#returning-a-view-versus-a-copy\n  data_dict.sort_values(by=['NOME', 'CATEGORIAS'], ascending=True, inplace=True)\n"
     ]
    }
   ],
   "source": [
    "# ordenando o dataframe em ordem crescente\n",
    "data_dict.sort_values(by=['NOME', 'CATEGORIAS'], ascending=True, inplace=True)"
   ]
  },
  {
   "source": [
    "## Salvando o dicionário de dados"
   ],
   "cell_type": "markdown",
   "metadata": {}
  },
  {
   "cell_type": "code",
   "execution_count": 9,
   "metadata": {},
   "outputs": [],
   "source": [
    "data_dict.to_csv(path+'dicionario_categorias.csv', index=False, encoding='utf-8')"
   ]
  },
  {
   "cell_type": "code",
   "execution_count": 10,
   "metadata": {},
   "outputs": [
    {
     "output_type": "execute_result",
     "data": {
      "text/plain": [
       "            NOME                                         CATEGORIAS\n",
       "93    ANO_FIM_EM                      AAAA (valores entre 0 e 2612)\n",
       "94   ANO_IN_GRAD                      AAAA (valores entre 3 e 2092)\n",
       "15    CO_CATEGAD  10001 = Pessoa Jurídica de Direito Público - E...\n",
       "16    CO_CATEGAD  10002 = Pessoa Jurídica de Direito Público - F...\n",
       "17    CO_CATEGAD  10003 = Pessoa Jurídica de Direito Público - M...\n",
       "..           ...                                                ...\n",
       "175    TP_SFG_D2           335 = Questãocom resposta nula (zerada)*\n",
       "176    TP_SFG_D2         336 = Questão com resposta desconsiderada*\n",
       "177    TP_SFG_D2    555 = Questão com resultado considerado válido*\n",
       "178    TP_SFG_D2  556 = Questão com resultado desconsiderado a p...\n",
       "179    TP_SFG_D2  Nota: (*) resultado considerado para o cálculo...\n",
       "\n",
       "[802 rows x 2 columns]"
      ],
      "text/html": "<div>\n<style scoped>\n    .dataframe tbody tr th:only-of-type {\n        vertical-align: middle;\n    }\n\n    .dataframe tbody tr th {\n        vertical-align: top;\n    }\n\n    .dataframe thead th {\n        text-align: right;\n    }\n</style>\n<table border=\"1\" class=\"dataframe\">\n  <thead>\n    <tr style=\"text-align: right;\">\n      <th></th>\n      <th>NOME</th>\n      <th>CATEGORIAS</th>\n    </tr>\n  </thead>\n  <tbody>\n    <tr>\n      <th>93</th>\n      <td>ANO_FIM_EM</td>\n      <td>AAAA (valores entre 0 e 2612)</td>\n    </tr>\n    <tr>\n      <th>94</th>\n      <td>ANO_IN_GRAD</td>\n      <td>AAAA (valores entre 3 e 2092)</td>\n    </tr>\n    <tr>\n      <th>15</th>\n      <td>CO_CATEGAD</td>\n      <td>10001 = Pessoa Jurídica de Direito Público - E...</td>\n    </tr>\n    <tr>\n      <th>16</th>\n      <td>CO_CATEGAD</td>\n      <td>10002 = Pessoa Jurídica de Direito Público - F...</td>\n    </tr>\n    <tr>\n      <th>17</th>\n      <td>CO_CATEGAD</td>\n      <td>10003 = Pessoa Jurídica de Direito Público - M...</td>\n    </tr>\n    <tr>\n      <th>...</th>\n      <td>...</td>\n      <td>...</td>\n    </tr>\n    <tr>\n      <th>175</th>\n      <td>TP_SFG_D2</td>\n      <td>335 = Questãocom resposta nula (zerada)*</td>\n    </tr>\n    <tr>\n      <th>176</th>\n      <td>TP_SFG_D2</td>\n      <td>336 = Questão com resposta desconsiderada*</td>\n    </tr>\n    <tr>\n      <th>177</th>\n      <td>TP_SFG_D2</td>\n      <td>555 = Questão com resultado considerado válido*</td>\n    </tr>\n    <tr>\n      <th>178</th>\n      <td>TP_SFG_D2</td>\n      <td>556 = Questão com resultado desconsiderado a p...</td>\n    </tr>\n    <tr>\n      <th>179</th>\n      <td>TP_SFG_D2</td>\n      <td>Nota: (*) resultado considerado para o cálculo...</td>\n    </tr>\n  </tbody>\n</table>\n<p>802 rows × 2 columns</p>\n</div>"
     },
     "metadata": {},
     "execution_count": 10
    }
   ],
   "source": [
    "data_dict"
   ]
  },
  {
   "cell_type": "code",
   "execution_count": null,
   "metadata": {},
   "outputs": [],
   "source": []
  }
 ],
 "metadata": {
  "kernelspec": {
   "name": "python3",
   "display_name": "Python 3.9.0 64-bit",
   "metadata": {
    "interpreter": {
     "hash": "04dd1ea88422301727d19c42d51b9d5e41ad8601a3578a3c62991af58a4da346"
    }
   }
  },
  "language_info": {
   "codemirror_mode": {
    "name": "ipython",
    "version": 3
   },
   "file_extension": ".py",
   "mimetype": "text/x-python",
   "name": "python",
   "nbconvert_exporter": "python",
   "pygments_lexer": "ipython3",
   "version": "3.9.0-final"
  }
 },
 "nbformat": 4,
 "nbformat_minor": 5
}